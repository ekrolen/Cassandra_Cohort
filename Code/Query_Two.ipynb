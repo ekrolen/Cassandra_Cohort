{
 "cells": [
  {
   "attachments": {},
   "cell_type": "markdown",
   "metadata": {},
   "source": [
    "# Query 2\n",
    "\n",
    "### Are there any neighbourhoods in any of the cities that don’t have any listings?"
   ]
  },
  {
   "cell_type": "code",
   "execution_count": 1,
   "metadata": {},
   "outputs": [],
   "source": [
    "import numpy as np\n",
    "import pandas as pd"
   ]
  },
  {
   "cell_type": "code",
   "execution_count": 2,
   "metadata": {},
   "outputs": [],
   "source": [
    "def no_listings(neighborhoods, listings):\n",
    "    #drop the neighbourhood_group column\n",
    "    neighborhoods = neighborhoods.drop(columns=['neighbourhood_group'])\n",
    "    listings = listings[['neighbourhood_cleansed']]\n",
    "\n",
    "    #keep only the unique neighborhood_cleansed\n",
    "    listings = listings.drop_duplicates()\n",
    "\n",
    "    #compare df_neighborhoods and df_listings. if the neighborhoods are present in both then create a separate column with boolean value\n",
    "    neighborhoods['is_in_listings'] = neighborhoods['neighbourhood'].isin(listings['neighbourhood_cleansed'])\n",
    "\n",
    "    #print the neighborhoods that have the value of False\n",
    "    print(neighborhoods[neighborhoods['is_in_listings'] == False])"
   ]
  },
  {
   "cell_type": "code",
   "execution_count": 3,
   "metadata": {},
   "outputs": [
    {
     "name": "stdout",
     "output_type": "stream",
     "text": [
      "         neighbourhood  is_in_listings\n",
      "40          Hansen Dam           False\n",
      "125           Bradbury           False\n",
      "230         Littlerock           False\n",
      "244  South Diamond Bar           False\n",
      "268   Whittier Narrows           False\n"
     ]
    }
   ],
   "source": [
    "# Los Angeles\n",
    "neighborhoods = pd.read_csv(\"LA_neighbourhoods.csv\")\n",
    "listings = pd.read_csv(\"LA_listings.csv\")\n",
    "\n",
    "no_listings(neighborhoods, listings)"
   ]
  },
  {
   "cell_type": "code",
   "execution_count": 4,
   "metadata": {},
   "outputs": [
    {
     "name": "stdout",
     "output_type": "stream",
     "text": [
      "           neighbourhood  is_in_listings\n",
      "51          Maywood Park           False\n",
      "60  Northwest Industrial           False\n",
      "92         Woodland Park           False\n"
     ]
    }
   ],
   "source": [
    "#Portland\n",
    "neighborhoods = pd.read_csv(\"neighbourhoods.csv\")\n",
    "listings = pd.read_csv(\"listings.csv\")\n",
    "\n",
    "no_listings(neighborhoods, listings)"
   ]
  },
  {
   "cell_type": "code",
   "execution_count": 5,
   "metadata": {},
   "outputs": [
    {
     "name": "stdout",
     "output_type": "stream",
     "text": [
      "Empty DataFrame\n",
      "Columns: [neighbourhood, is_in_listings]\n",
      "Index: []\n"
     ]
    }
   ],
   "source": [
    "#Salem\n",
    "neighborhoods = pd.read_csv(\"Salem_neighbourhoods.csv\")\n",
    "listings = pd.read_csv(\"Salem_listings.csv\")\n",
    "\n",
    "no_listings(neighborhoods, listings)"
   ]
  },
  {
   "cell_type": "code",
   "execution_count": 6,
   "metadata": {},
   "outputs": [
    {
     "name": "stdout",
     "output_type": "stream",
     "text": [
      "      neighbourhood  is_in_listings\n",
      "8        Bella Lago           False\n",
      "34        Fenton St           False\n",
      "37      Golf Course           False\n",
      "40     Horton Plaza           False\n",
      "56          Miramar           False\n",
      "103  Village Center           False\n"
     ]
    }
   ],
   "source": [
    "#San Diego\n",
    "neighborhoods = pd.read_csv(\"SD_neighbourhoods.csv\")\n",
    "listings = pd.read_csv(\"SD_listings.csv\")\n",
    "\n",
    "no_listings(neighborhoods, listings)"
   ]
  }
 ],
 "metadata": {
  "kernelspec": {
   "display_name": "Python 3",
   "language": "python",
   "name": "python3"
  },
  "language_info": {
   "codemirror_mode": {
    "name": "ipython",
    "version": 3
   },
   "file_extension": ".py",
   "mimetype": "text/x-python",
   "name": "python",
   "nbconvert_exporter": "python",
   "pygments_lexer": "ipython3",
   "version": "3.11.1"
  },
  "orig_nbformat": 4
 },
 "nbformat": 4,
 "nbformat_minor": 2
}
