{
 "cells": [
  {
   "attachments": {},
   "cell_type": "markdown",
   "metadata": {},
   "source": [
    "# Query 2\n",
    "\n",
    "### Are there any neighbourhoods in any of the cities that don’t have any listings?"
   ]
  },
  {
   "cell_type": "code",
   "execution_count": 7,
   "metadata": {},
   "outputs": [],
   "source": [
    "import numpy as np\n",
    "import pandas as pd"
   ]
  },
  {
   "cell_type": "code",
   "execution_count": 8,
   "metadata": {},
   "outputs": [
    {
     "name": "stdout",
     "output_type": "stream",
     "text": [
      "Neighborhoods with no listings in Los Angeles\n",
      "         neighbourhood  is_in_listings\n",
      "40          Hansen Dam           False\n",
      "125           Bradbury           False\n",
      "230         Littlerock           False\n",
      "244  South Diamond Bar           False\n",
      "268   Whittier Narrows           False\n",
      "\n",
      "Neighborhoods with no listings in Portland\n",
      "           neighbourhood  is_in_listings\n",
      "51          Maywood Park           False\n",
      "60  Northwest Industrial           False\n",
      "92         Woodland Park           False\n",
      "\n",
      "Neighborhoods with no listings in Salem\n",
      "Empty DataFrame\n",
      "Columns: [neighbourhood, is_in_listings]\n",
      "Index: []\n",
      "\n",
      "Neighborhoods with no listings in San Diego\n",
      "      neighbourhood  is_in_listings\n",
      "8        Bella Lago           False\n",
      "34        Fenton St           False\n",
      "37      Golf Course           False\n",
      "40     Horton Plaza           False\n",
      "56          Miramar           False\n",
      "103  Village Center           False\n",
      "\n"
     ]
    }
   ],
   "source": [
    "neighbourhoods = [\"LA_neighbourhoods.csv\", \"neighbourhoods.csv\", \"Salem_neighbourhoods.csv\", \"SD_neighbourhoods.csv\"]\n",
    "listings = [\"LA_listings.csv\", \"listings.csv\", \"Salem_listings.csv\", \"SD_listings.csv\"]\n",
    "cities = [\"Los Angeles\", \"Portland\", \"Salem\", \"San Diego\"]\n",
    "\n",
    "for neighbourhood, listing, city in zip(neighbourhoods, listings, cities):\n",
    "    hood = pd.read_csv(neighbourhood)\n",
    "    ting = pd.read_csv(listing)\n",
    "    \n",
    "    #drop the neighbourhood_group column\n",
    "    hood = hood.drop(columns=['neighbourhood_group'])\n",
    "    ting = ting[['neighbourhood_cleansed']]\n",
    "\n",
    "    #keep only the unique neighborhood_cleansed\n",
    "    ting = ting.drop_duplicates()\n",
    "\n",
    "    #compare df_neighborhoods and df_listings. if the neighborhoods are present in both then create a separate column with boolean value\n",
    "    hood['is_in_listings'] = hood['neighbourhood'].isin(ting['neighbourhood_cleansed'])\n",
    "\n",
    "    #print the neighborhoods that have the value of False\n",
    "    print(f\"Neighborhoods with no listings in {city}\")\n",
    "    print(hood[hood['is_in_listings'] == False], end = '\\n\\n')\n"
   ]
  }
 ],
 "metadata": {
  "kernelspec": {
   "display_name": "Python 3",
   "language": "python",
   "name": "python3"
  },
  "language_info": {
   "codemirror_mode": {
    "name": "ipython",
    "version": 3
   },
   "file_extension": ".py",
   "mimetype": "text/x-python",
   "name": "python",
   "nbconvert_exporter": "python",
   "pygments_lexer": "ipython3",
   "version": "3.11.1"
  },
  "orig_nbformat": 4
 },
 "nbformat": 4,
 "nbformat_minor": 2
}
