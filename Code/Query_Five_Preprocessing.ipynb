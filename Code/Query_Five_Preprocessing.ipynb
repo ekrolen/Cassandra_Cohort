{
 "cells": [
  {
   "cell_type": "markdown",
   "id": "deccbc9e",
   "metadata": {},
   "source": [
    "# Query Five Data Preprocessing"
   ]
  },
  {
   "cell_type": "markdown",
   "id": "a0667ccc",
   "metadata": {},
   "source": [
    "#### Goal: Clean the reviews data files in prepartion for loading into Cassandra on Azure"
   ]
  },
  {
   "cell_type": "code",
   "execution_count": 20,
   "id": "6614cee0",
   "metadata": {},
   "outputs": [],
   "source": [
    "#Imports\n",
    "import numpy as np\n",
    "import pandas as pd"
   ]
  },
  {
   "cell_type": "code",
   "execution_count": 21,
   "id": "7027ae81",
   "metadata": {},
   "outputs": [],
   "source": [
    "#Uploading all the data\n",
    "pdx_reviews = pd.read_csv('PDX_reviews.csv')\n",
    "la_reviews = pd.read_csv('la_reviews.csv')\n",
    "sd_reviews = pd.read_csv('sd_reviews.csv')\n",
    "salem_reviews = pd.read_csv('salem_reviews.csv')"
   ]
  },
  {
   "cell_type": "code",
   "execution_count": 22,
   "id": "f776fcc2",
   "metadata": {},
   "outputs": [],
   "source": [
    "#Adding city column to data frames\n",
    "pdx_reviews['city'] = \"Portland\"\n",
    "la_reviews['city'] = \"Los Angeles\"\n",
    "sd_reviews['city'] = \"San Diego\"\n",
    "salem_reviews['city'] = \"Salem\""
   ]
  },
  {
   "cell_type": "code",
   "execution_count": 23,
   "id": "a0adcd16",
   "metadata": {},
   "outputs": [],
   "source": [
    "#Removing columns which aren't id, date, and city\n",
    "pdx_select = pdx_reviews[[\"id\",\"date\",\"city\"]]\n",
    "la_select = la_reviews[[\"id\",\"date\",\"city\"]]\n",
    "sd_select = sd_reviews[[\"id\",\"date\",\"city\"]]\n",
    "salem_select = salem_reviews[[\"id\",\"date\",\"city\"]]"
   ]
  },
  {
   "cell_type": "code",
   "execution_count": 24,
   "id": "f67a993d",
   "metadata": {},
   "outputs": [],
   "source": [
    "#Combining all reviews for all cities\n",
    "df_list = [pdx_select, la_select, sd_select, salem_select]\n",
    "all_reviews = pd.concat(df_list)"
   ]
  },
  {
   "cell_type": "code",
   "execution_count": 25,
   "id": "9005e4fb",
   "metadata": {},
   "outputs": [
    {
     "name": "stdout",
     "output_type": "stream",
     "text": [
      "Concat worked correctly. New len: 2573162\n"
     ]
    }
   ],
   "source": [
    "#Testing concat\n",
    "indiv_lengths = len(pdx_select) + len(la_select) + len(sd_select) + len(salem_select)\n",
    "if len(all_reviews) == indiv_lengths:\n",
    "    print(\"Concat worked correctly. New len: \"+str(len(all_reviews)))\n",
    "else:\n",
    "    print(\"Concat did not merge right\")"
   ]
  },
  {
   "cell_type": "code",
   "execution_count": 26,
   "id": "c9abc6c2",
   "metadata": {},
   "outputs": [],
   "source": [
    "#Converting date to datetime and adding month & year columns\n",
    "all_reviews['date'] = pd.to_datetime(all_reviews['date'])\n",
    "all_reviews['review_month'] = all_reviews['date'].dt.month\n",
    "all_reviews['review_year'] = all_reviews['date'].dt.year"
   ]
  },
  {
   "cell_type": "code",
   "execution_count": 27,
   "id": "7e319b4d",
   "metadata": {},
   "outputs": [
    {
     "data": {
      "text/html": [
       "<div>\n",
       "<style scoped>\n",
       "    .dataframe tbody tr th:only-of-type {\n",
       "        vertical-align: middle;\n",
       "    }\n",
       "\n",
       "    .dataframe tbody tr th {\n",
       "        vertical-align: top;\n",
       "    }\n",
       "\n",
       "    .dataframe thead th {\n",
       "        text-align: right;\n",
       "    }\n",
       "</style>\n",
       "<table border=\"1\" class=\"dataframe\">\n",
       "  <thead>\n",
       "    <tr style=\"text-align: right;\">\n",
       "      <th></th>\n",
       "      <th>id</th>\n",
       "      <th>city</th>\n",
       "      <th>review_month</th>\n",
       "      <th>review_year</th>\n",
       "    </tr>\n",
       "  </thead>\n",
       "  <tbody>\n",
       "    <tr>\n",
       "      <th>0</th>\n",
       "      <td>24767</td>\n",
       "      <td>Portland</td>\n",
       "      <td>1</td>\n",
       "      <td>2010</td>\n",
       "    </tr>\n",
       "    <tr>\n",
       "      <th>1</th>\n",
       "      <td>29230</td>\n",
       "      <td>Portland</td>\n",
       "      <td>3</td>\n",
       "      <td>2010</td>\n",
       "    </tr>\n",
       "    <tr>\n",
       "      <th>2</th>\n",
       "      <td>29806</td>\n",
       "      <td>Portland</td>\n",
       "      <td>3</td>\n",
       "      <td>2010</td>\n",
       "    </tr>\n",
       "    <tr>\n",
       "      <th>3</th>\n",
       "      <td>32572</td>\n",
       "      <td>Portland</td>\n",
       "      <td>3</td>\n",
       "      <td>2010</td>\n",
       "    </tr>\n",
       "    <tr>\n",
       "      <th>4</th>\n",
       "      <td>32862</td>\n",
       "      <td>Portland</td>\n",
       "      <td>4</td>\n",
       "      <td>2010</td>\n",
       "    </tr>\n",
       "    <tr>\n",
       "      <th>...</th>\n",
       "      <td>...</td>\n",
       "      <td>...</td>\n",
       "      <td>...</td>\n",
       "      <td>...</td>\n",
       "    </tr>\n",
       "    <tr>\n",
       "      <th>14881</th>\n",
       "      <td>840008042809282936</td>\n",
       "      <td>Salem</td>\n",
       "      <td>3</td>\n",
       "      <td>2023</td>\n",
       "    </tr>\n",
       "    <tr>\n",
       "      <th>14882</th>\n",
       "      <td>840728285056856719</td>\n",
       "      <td>Salem</td>\n",
       "      <td>3</td>\n",
       "      <td>2023</td>\n",
       "    </tr>\n",
       "    <tr>\n",
       "      <th>14883</th>\n",
       "      <td>822551660654988407</td>\n",
       "      <td>Salem</td>\n",
       "      <td>2</td>\n",
       "      <td>2023</td>\n",
       "    </tr>\n",
       "    <tr>\n",
       "      <th>14884</th>\n",
       "      <td>818218402306004794</td>\n",
       "      <td>Salem</td>\n",
       "      <td>2</td>\n",
       "      <td>2023</td>\n",
       "    </tr>\n",
       "    <tr>\n",
       "      <th>14885</th>\n",
       "      <td>852973957827370635</td>\n",
       "      <td>Salem</td>\n",
       "      <td>3</td>\n",
       "      <td>2023</td>\n",
       "    </tr>\n",
       "  </tbody>\n",
       "</table>\n",
       "<p>2573162 rows × 4 columns</p>\n",
       "</div>"
      ],
      "text/plain": [
       "                       id      city  review_month  review_year\n",
       "0                   24767  Portland             1         2010\n",
       "1                   29230  Portland             3         2010\n",
       "2                   29806  Portland             3         2010\n",
       "3                   32572  Portland             3         2010\n",
       "4                   32862  Portland             4         2010\n",
       "...                   ...       ...           ...          ...\n",
       "14881  840008042809282936     Salem             3         2023\n",
       "14882  840728285056856719     Salem             3         2023\n",
       "14883  822551660654988407     Salem             2         2023\n",
       "14884  818218402306004794     Salem             2         2023\n",
       "14885  852973957827370635     Salem             3         2023\n",
       "\n",
       "[2573162 rows x 4 columns]"
      ]
     },
     "execution_count": 27,
     "metadata": {},
     "output_type": "execute_result"
    }
   ],
   "source": [
    "#Removing date column\n",
    "final_reviews = all_reviews.loc[:, all_reviews.columns!='date']\n",
    "final_reviews"
   ]
  },
  {
   "cell_type": "code",
   "execution_count": 28,
   "id": "41d1053d",
   "metadata": {},
   "outputs": [],
   "source": [
    "final_reviews.to_csv(\"q5_comb_reviews.csv\")"
   ]
  }
 ],
 "metadata": {
  "kernelspec": {
   "display_name": "Python 3 (ipykernel)",
   "language": "python",
   "name": "python3"
  },
  "language_info": {
   "codemirror_mode": {
    "name": "ipython",
    "version": 3
   },
   "file_extension": ".py",
   "mimetype": "text/x-python",
   "name": "python",
   "nbconvert_exporter": "python",
   "pygments_lexer": "ipython3",
   "version": "3.9.12"
  }
 },
 "nbformat": 4,
 "nbformat_minor": 5
}
