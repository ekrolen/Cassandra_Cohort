{
 "cells": [
  {
   "cell_type": "markdown",
   "id": "78c442ce",
   "metadata": {},
   "source": [
    "# Dummy Availability Table Creator"
   ]
  },
  {
   "cell_type": "markdown",
   "id": "4cecd827",
   "metadata": {},
   "source": [
    "### Goal: Create a dummy availability table so I can execute the table matching and check the logic while I wait for Kevin to develop the actual logic"
   ]
  },
  {
   "cell_type": "code",
   "execution_count": 1,
   "id": "5494e619",
   "metadata": {},
   "outputs": [],
   "source": [
    "import pandas as pd\n",
    "import numpy as np"
   ]
  },
  {
   "cell_type": "code",
   "execution_count": 4,
   "id": "537fc0ef",
   "metadata": {},
   "outputs": [
    {
     "data": {
      "text/html": [
       "<div>\n",
       "<style scoped>\n",
       "    .dataframe tbody tr th:only-of-type {\n",
       "        vertical-align: middle;\n",
       "    }\n",
       "\n",
       "    .dataframe tbody tr th {\n",
       "        vertical-align: top;\n",
       "    }\n",
       "\n",
       "    .dataframe thead th {\n",
       "        text-align: right;\n",
       "    }\n",
       "</style>\n",
       "<table border=\"1\" class=\"dataframe\">\n",
       "  <thead>\n",
       "    <tr style=\"text-align: right;\">\n",
       "      <th></th>\n",
       "      <th>Unnamed: 0</th>\n",
       "      <th>listing_id</th>\n",
       "      <th>id</th>\n",
       "      <th>reviewer_id</th>\n",
       "      <th>review_month</th>\n",
       "    </tr>\n",
       "  </thead>\n",
       "  <tbody>\n",
       "    <tr>\n",
       "      <th>0</th>\n",
       "      <td>0</td>\n",
       "      <td>12899</td>\n",
       "      <td>24767</td>\n",
       "      <td>69327</td>\n",
       "      <td>1</td>\n",
       "    </tr>\n",
       "    <tr>\n",
       "      <th>1</th>\n",
       "      <td>1</td>\n",
       "      <td>12899</td>\n",
       "      <td>29230</td>\n",
       "      <td>72846</td>\n",
       "      <td>3</td>\n",
       "    </tr>\n",
       "    <tr>\n",
       "      <th>2</th>\n",
       "      <td>2</td>\n",
       "      <td>12899</td>\n",
       "      <td>29806</td>\n",
       "      <td>84196</td>\n",
       "      <td>3</td>\n",
       "    </tr>\n",
       "    <tr>\n",
       "      <th>3</th>\n",
       "      <td>3</td>\n",
       "      <td>12899</td>\n",
       "      <td>32572</td>\n",
       "      <td>89114</td>\n",
       "      <td>3</td>\n",
       "    </tr>\n",
       "    <tr>\n",
       "      <th>4</th>\n",
       "      <td>4</td>\n",
       "      <td>12899</td>\n",
       "      <td>32862</td>\n",
       "      <td>100318</td>\n",
       "      <td>4</td>\n",
       "    </tr>\n",
       "  </tbody>\n",
       "</table>\n",
       "</div>"
      ],
      "text/plain": [
       "   Unnamed: 0  listing_id     id  reviewer_id  review_month\n",
       "0           0       12899  24767        69327             1\n",
       "1           1       12899  29230        72846             3\n",
       "2           2       12899  29806        84196             3\n",
       "3           3       12899  32572        89114             3\n",
       "4           4       12899  32862       100318             4"
      ]
     },
     "execution_count": 4,
     "metadata": {},
     "output_type": "execute_result"
    }
   ],
   "source": [
    "#Load the combined reviews table to understand how many listings have >3 reviews by the same person\n",
    "reviews = pd.read_csv(\"q6_comb_reviews.csv\")\n",
    "reviews.head()"
   ]
  },
  {
   "cell_type": "markdown",
   "id": "02e2d6e0",
   "metadata": {},
   "source": [
    "### Understanding the prevelance of thrice+ reviewed listings"
   ]
  },
  {
   "cell_type": "code",
   "execution_count": 21,
   "id": "a5ac194a",
   "metadata": {},
   "outputs": [],
   "source": [
    "#Grouping listings\n",
    "grouped_listings = reviews.groupby(['listing_id', 'reviewer_id'])['id'].count()\n",
    "grouped_listings = grouped_listings.to_frame()\n",
    "grouped_listings = grouped_listings.reset_index()\n",
    "grouped_listings = grouped_listings.rename({\"id\":\"review_counts\"}, axis = 1)\n",
    "#grouped_listings1"
   ]
  },
  {
   "cell_type": "code",
   "execution_count": 22,
   "id": "bdd78b91",
   "metadata": {},
   "outputs": [
    {
     "data": {
      "text/html": [
       "<div>\n",
       "<style scoped>\n",
       "    .dataframe tbody tr th:only-of-type {\n",
       "        vertical-align: middle;\n",
       "    }\n",
       "\n",
       "    .dataframe tbody tr th {\n",
       "        vertical-align: top;\n",
       "    }\n",
       "\n",
       "    .dataframe thead th {\n",
       "        text-align: right;\n",
       "    }\n",
       "</style>\n",
       "<table border=\"1\" class=\"dataframe\">\n",
       "  <thead>\n",
       "    <tr style=\"text-align: right;\">\n",
       "      <th></th>\n",
       "      <th>listing_id</th>\n",
       "      <th>reviewer_id</th>\n",
       "      <th>review_counts</th>\n",
       "    </tr>\n",
       "  </thead>\n",
       "  <tbody>\n",
       "    <tr>\n",
       "      <th>231</th>\n",
       "      <td>3021</td>\n",
       "      <td>82971860</td>\n",
       "      <td>3</td>\n",
       "    </tr>\n",
       "    <tr>\n",
       "      <th>1635</th>\n",
       "      <td>9140</td>\n",
       "      <td>54090633</td>\n",
       "      <td>3</td>\n",
       "    </tr>\n",
       "    <tr>\n",
       "      <th>1969</th>\n",
       "      <td>12899</td>\n",
       "      <td>791723</td>\n",
       "      <td>3</td>\n",
       "    </tr>\n",
       "    <tr>\n",
       "      <th>1987</th>\n",
       "      <td>12899</td>\n",
       "      <td>1227853</td>\n",
       "      <td>5</td>\n",
       "    </tr>\n",
       "    <tr>\n",
       "      <th>2065</th>\n",
       "      <td>12899</td>\n",
       "      <td>3132153</td>\n",
       "      <td>3</td>\n",
       "    </tr>\n",
       "    <tr>\n",
       "      <th>...</th>\n",
       "      <td>...</td>\n",
       "      <td>...</td>\n",
       "      <td>...</td>\n",
       "    </tr>\n",
       "    <tr>\n",
       "      <th>2511389</th>\n",
       "      <td>789101243357990362</td>\n",
       "      <td>485134984</td>\n",
       "      <td>6</td>\n",
       "    </tr>\n",
       "    <tr>\n",
       "      <th>2511777</th>\n",
       "      <td>792942008294249400</td>\n",
       "      <td>485134984</td>\n",
       "      <td>4</td>\n",
       "    </tr>\n",
       "    <tr>\n",
       "      <th>2512605</th>\n",
       "      <td>798843846505276637</td>\n",
       "      <td>454135038</td>\n",
       "      <td>3</td>\n",
       "    </tr>\n",
       "    <tr>\n",
       "      <th>2512897</th>\n",
       "      <td>802203851341181214</td>\n",
       "      <td>20189866</td>\n",
       "      <td>3</td>\n",
       "    </tr>\n",
       "    <tr>\n",
       "      <th>2513229</th>\n",
       "      <td>805122674470995324</td>\n",
       "      <td>456541570</td>\n",
       "      <td>3</td>\n",
       "    </tr>\n",
       "  </tbody>\n",
       "</table>\n",
       "<p>7750 rows × 3 columns</p>\n",
       "</div>"
      ],
      "text/plain": [
       "                 listing_id  reviewer_id  review_counts\n",
       "231                    3021     82971860              3\n",
       "1635                   9140     54090633              3\n",
       "1969                  12899       791723              3\n",
       "1987                  12899      1227853              5\n",
       "2065                  12899      3132153              3\n",
       "...                     ...          ...            ...\n",
       "2511389  789101243357990362    485134984              6\n",
       "2511777  792942008294249400    485134984              4\n",
       "2512605  798843846505276637    454135038              3\n",
       "2512897  802203851341181214     20189866              3\n",
       "2513229  805122674470995324    456541570              3\n",
       "\n",
       "[7750 rows x 3 columns]"
      ]
     },
     "execution_count": 22,
     "metadata": {},
     "output_type": "execute_result"
    }
   ],
   "source": [
    "#Selecting where review_counts > 3 - 7750 rows\n",
    "grouped_listings.loc[grouped_listings['review_counts'] >= 3]"
   ]
  },
  {
   "cell_type": "code",
   "execution_count": 26,
   "id": "603c8dd1",
   "metadata": {},
   "outputs": [
    {
     "name": "stdout",
     "output_type": "stream",
     "text": [
      "<class 'pandas.core.frame.DataFrame'>\n",
      "      listing_id  reviewer_id  review_counts\n",
      "1878       12899        12386              1\n",
      "1879       12899        24799              1\n",
      "1880       12899        26035              2\n",
      "1881       12899        39329              1\n",
      "1882       12899        49785              1\n",
      "...          ...          ...            ...\n",
      "2461       12899    423723480              1\n",
      "2462       12899    431740869              1\n",
      "2463       12899    431967278              1\n",
      "2464       12899    434159024              1\n",
      "2465       12899    454574110              1\n",
      "\n",
      "[588 rows x 3 columns]\n"
     ]
    }
   ],
   "source": [
    "#Getting all the results for listing_id 12899 to make a test table for my logic\n",
    "test_table = grouped_listings.loc[grouped_listings['listing_id'] == 12899]\n",
    "test_table"
   ]
  },
  {
   "cell_type": "code",
   "execution_count": 27,
   "id": "cd94c9ad",
   "metadata": {},
   "outputs": [
    {
     "data": {
      "text/html": [
       "<div>\n",
       "<style scoped>\n",
       "    .dataframe tbody tr th:only-of-type {\n",
       "        vertical-align: middle;\n",
       "    }\n",
       "\n",
       "    .dataframe tbody tr th {\n",
       "        vertical-align: top;\n",
       "    }\n",
       "\n",
       "    .dataframe thead th {\n",
       "        text-align: right;\n",
       "    }\n",
       "</style>\n",
       "<table border=\"1\" class=\"dataframe\">\n",
       "  <thead>\n",
       "    <tr style=\"text-align: right;\">\n",
       "      <th></th>\n",
       "      <th>listing_id</th>\n",
       "      <th>reviewer_id</th>\n",
       "      <th>review_counts</th>\n",
       "    </tr>\n",
       "  </thead>\n",
       "  <tbody>\n",
       "    <tr>\n",
       "      <th>1969</th>\n",
       "      <td>12899</td>\n",
       "      <td>791723</td>\n",
       "      <td>3</td>\n",
       "    </tr>\n",
       "    <tr>\n",
       "      <th>1987</th>\n",
       "      <td>12899</td>\n",
       "      <td>1227853</td>\n",
       "      <td>5</td>\n",
       "    </tr>\n",
       "    <tr>\n",
       "      <th>2065</th>\n",
       "      <td>12899</td>\n",
       "      <td>3132153</td>\n",
       "      <td>3</td>\n",
       "    </tr>\n",
       "    <tr>\n",
       "      <th>2133</th>\n",
       "      <td>12899</td>\n",
       "      <td>7609608</td>\n",
       "      <td>5</td>\n",
       "    </tr>\n",
       "    <tr>\n",
       "      <th>2154</th>\n",
       "      <td>12899</td>\n",
       "      <td>9605958</td>\n",
       "      <td>3</td>\n",
       "    </tr>\n",
       "  </tbody>\n",
       "</table>\n",
       "</div>"
      ],
      "text/plain": [
       "      listing_id  reviewer_id  review_counts\n",
       "1969       12899       791723              3\n",
       "1987       12899      1227853              5\n",
       "2065       12899      3132153              3\n",
       "2133       12899      7609608              5\n",
       "2154       12899      9605958              3"
      ]
     },
     "execution_count": 27,
     "metadata": {},
     "output_type": "execute_result"
    }
   ],
   "source": [
    "#In our test table, how many reviews have review counts >3 - 5\n",
    "test_table.loc[test_table['review_counts'] >= 3]"
   ]
  },
  {
   "cell_type": "markdown",
   "id": "5eaf3b98",
   "metadata": {},
   "source": [
    "### Creating a dummy availability table to test matching and logic"
   ]
  },
  {
   "cell_type": "code",
   "execution_count": null,
   "id": "9acdd537",
   "metadata": {},
   "outputs": [],
   "source": [
    "'''Goal:\n",
    "    create a 2 column table with each listing id and it's availability dates\n",
    "Need to:\n",
    "    get all the listing_ids\n",
    "    make up some availability dates (make consistent for checking)\n",
    "    combine into a dataframe'''"
   ]
  },
  {
   "cell_type": "code",
   "execution_count": 49,
   "id": "f1565fa7",
   "metadata": {},
   "outputs": [],
   "source": [
    "#Getting the listing ids\n",
    "listing_id_list = reviews.listing_id.unique()"
   ]
  },
  {
   "cell_type": "code",
   "execution_count": 51,
   "id": "b48da8a6",
   "metadata": {},
   "outputs": [
    {
     "data": {
      "text/html": [
       "<div>\n",
       "<style scoped>\n",
       "    .dataframe tbody tr th:only-of-type {\n",
       "        vertical-align: middle;\n",
       "    }\n",
       "\n",
       "    .dataframe tbody tr th {\n",
       "        vertical-align: top;\n",
       "    }\n",
       "\n",
       "    .dataframe thead th {\n",
       "        text-align: right;\n",
       "    }\n",
       "</style>\n",
       "<table border=\"1\" class=\"dataframe\">\n",
       "  <thead>\n",
       "    <tr style=\"text-align: right;\">\n",
       "      <th></th>\n",
       "      <th>listing_id</th>\n",
       "      <th>avail_months</th>\n",
       "    </tr>\n",
       "  </thead>\n",
       "  <tbody>\n",
       "    <tr>\n",
       "      <th>0</th>\n",
       "      <td>12899</td>\n",
       "      <td>1,2,3</td>\n",
       "    </tr>\n",
       "    <tr>\n",
       "      <th>1</th>\n",
       "      <td>789798</td>\n",
       "      <td>1,2,3</td>\n",
       "    </tr>\n",
       "    <tr>\n",
       "      <th>2</th>\n",
       "      <td>801318</td>\n",
       "      <td>1,2,3</td>\n",
       "    </tr>\n",
       "    <tr>\n",
       "      <th>3</th>\n",
       "      <td>808393</td>\n",
       "      <td>1,2,3</td>\n",
       "    </tr>\n",
       "    <tr>\n",
       "      <th>4</th>\n",
       "      <td>838961</td>\n",
       "      <td>1,2,3</td>\n",
       "    </tr>\n",
       "  </tbody>\n",
       "</table>\n",
       "</div>"
      ],
      "text/plain": [
       "   listing_id avail_months\n",
       "0       12899        1,2,3\n",
       "1      789798        1,2,3\n",
       "2      801318        1,2,3\n",
       "3      808393        1,2,3\n",
       "4      838961        1,2,3"
      ]
     },
     "execution_count": 51,
     "metadata": {},
     "output_type": "execute_result"
    }
   ],
   "source": [
    "#Creating a dataframe & adding col with avail months\n",
    "dummy_avail = pd.DataFrame(listing_id_list, columns = ['listing_id'])\n",
    "dummy_avail['avail_months'] = '1,2,3'\n",
    "dummy_avail.head()"
   ]
  },
  {
   "cell_type": "code",
   "execution_count": 52,
   "id": "556cafba",
   "metadata": {},
   "outputs": [
    {
     "name": "stdout",
     "output_type": "stream",
     "text": [
      "Dummy avail table has correct number of rows 45943\n"
     ]
    }
   ],
   "source": [
    "#Testing the dummy avail table has the right number of rows\n",
    "if len(dummy_avail) == len(listing_id_list):\n",
    "    print(\"Dummy avail table has correct number of rows\", len(dummy_avail))\n",
    "else:\n",
    "    print(\"Dummy avail table wrong length for unique number of ids\")"
   ]
  },
  {
   "cell_type": "code",
   "execution_count": 54,
   "id": "6f22be23",
   "metadata": {},
   "outputs": [],
   "source": [
    "#Altering availability dates so can ensure the matching was done correctly in\n",
    "#the main query 6 script\n",
    "#Most rows will be 1,2,3\n",
    "#listing_id 3021 will be 4,5,6\n",
    "#listing_id 9140 will be 7,8,9\n",
    "dummy_avail.loc[dummy_avail['listing_id'] == 3021, \"avail_months\"] = '4,5,6'\n",
    "dummy_avail.loc[dummy_avail['listing_id'] == 9140, \"avail_months\"] = '7,8,9'"
   ]
  },
  {
   "cell_type": "code",
   "execution_count": 61,
   "id": "010cb5f1",
   "metadata": {},
   "outputs": [
    {
     "name": "stdout",
     "output_type": "stream",
     "text": [
      "      listing_id avail_months\n",
      "3971        3021        4,5,6\n",
      "      listing_id avail_months\n",
      "4004        9140        7,8,9\n",
      "   listing_id avail_months\n",
      "0       12899        1,2,3\n",
      "   listing_id avail_months\n",
      "2      801318        1,2,3\n"
     ]
    }
   ],
   "source": [
    "#Testing that the changes updated correctly\n",
    "print(dummy_avail.loc[dummy_avail['listing_id'] == 3021])\n",
    "print(dummy_avail.loc[dummy_avail['listing_id'] == 9140])\n",
    "print(dummy_avail.loc[dummy_avail['listing_id'] == 12899])\n",
    "print(dummy_avail.loc[dummy_avail['listing_id'] == 801318])"
   ]
  },
  {
   "cell_type": "code",
   "execution_count": 62,
   "id": "3847c06e",
   "metadata": {},
   "outputs": [],
   "source": [
    "#Saving the dummy availability table\n",
    "dummy_avail.to_csv(\"dummy_availability_table.csv\")"
   ]
  }
 ],
 "metadata": {
  "kernelspec": {
   "display_name": "Python 3 (ipykernel)",
   "language": "python",
   "name": "python3"
  },
  "language_info": {
   "codemirror_mode": {
    "name": "ipython",
    "version": 3
   },
   "file_extension": ".py",
   "mimetype": "text/x-python",
   "name": "python",
   "nbconvert_exporter": "python",
   "pygments_lexer": "ipython3",
   "version": "3.9.12"
  }
 },
 "nbformat": 4,
 "nbformat_minor": 5
}
